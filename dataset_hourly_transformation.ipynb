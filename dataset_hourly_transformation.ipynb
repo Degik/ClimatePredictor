{
 "cells": [
  {
   "cell_type": "code",
   "execution_count": 1,
   "metadata": {},
   "outputs": [
    {
     "name": "stderr",
     "output_type": "stream",
     "text": [
      "/tmp/ipykernel_25440/2297609312.py:5: DtypeWarning: Columns (3,21,27,28,29,30,31,37,38,42,43,44,49,50,52,53,54,57,59,60,62,64,69,86,96,115,118,120) have mixed types. Specify dtype option on import or set low_memory=False.\n",
      "  df = pd.read_csv(f'{i}.csv')\n",
      "/tmp/ipykernel_25440/2297609312.py:7: DtypeWarning: Columns (42,43,52) have mixed types. Specify dtype option on import or set low_memory=False.\n",
      "  df = pd.concat([df, pd.read_csv(f'{i}.csv')])\n",
      "/tmp/ipykernel_25440/2297609312.py:7: DtypeWarning: Columns (21,27,28,29,30,31,37,38,42,43,44,49,50,52,54,56,57,59,60,62,64,69,86,115,118,120) have mixed types. Specify dtype option on import or set low_memory=False.\n",
      "  df = pd.concat([df, pd.read_csv(f'{i}.csv')])\n",
      "/tmp/ipykernel_25440/2297609312.py:7: DtypeWarning: Columns (3,21,27,28,29,30,31,37,38,42,43,44,49,50,52,54,57,60,62,64,96,115,118,120) have mixed types. Specify dtype option on import or set low_memory=False.\n",
      "  df = pd.concat([df, pd.read_csv(f'{i}.csv')])\n",
      "/tmp/ipykernel_25440/2297609312.py:7: DtypeWarning: Columns (3,21,27,28,29,30,32,33,43,44,49,53,54,56,57,59,60,70,72,89,96,115,118,120) have mixed types. Specify dtype option on import or set low_memory=False.\n",
      "  df = pd.concat([df, pd.read_csv(f'{i}.csv')])\n",
      "/tmp/ipykernel_25440/2297609312.py:7: DtypeWarning: Columns (3,21,27,28,29,31,32,33,43,44,50,52,53,70,72,89,96) have mixed types. Specify dtype option on import or set low_memory=False.\n",
      "  df = pd.concat([df, pd.read_csv(f'{i}.csv')])\n",
      "/tmp/ipykernel_25440/2297609312.py:7: DtypeWarning: Columns (3,21,27,28,29,30,31,37,38,42,43,44,49,50,52,54,57,59,60,62,64,96,115,118,120) have mixed types. Specify dtype option on import or set low_memory=False.\n",
      "  df = pd.concat([df, pd.read_csv(f'{i}.csv')])\n",
      "/tmp/ipykernel_25440/2297609312.py:7: DtypeWarning: Columns (42,43,44,50,52,57) have mixed types. Specify dtype option on import or set low_memory=False.\n",
      "  df = pd.concat([df, pd.read_csv(f'{i}.csv')])\n",
      "/tmp/ipykernel_25440/2297609312.py:7: DtypeWarning: Columns (3,21,27,28,29,30,32,33,43,44,49,50,52,54,57,59,60,70,72,73,89,96,97,98,99,100,101,102,103,104,105,106,107,108) have mixed types. Specify dtype option on import or set low_memory=False.\n",
      "  df = pd.concat([df, pd.read_csv(f'{i}.csv')])\n"
     ]
    }
   ],
   "source": [
    "import pandas as pd\n",
    "# Take the csv files and concatenate them into one dataframe\n",
    "for i in range(1, 10):\n",
    "    if i == 1:\n",
    "        df = pd.read_csv(f'{i}.csv')\n",
    "    else:\n",
    "        df = pd.concat([df, pd.read_csv(f'{i}.csv')])"
   ]
  },
  {
   "cell_type": "code",
   "execution_count": 2,
   "metadata": {},
   "outputs": [],
   "source": [
    "# Create a dataset with only the features\n",
    "#HourlyVisibility (4%) missing\n",
    "#HourlyStationPressure (4%) missing\n",
    "#HourlyRelativeHumidity (4%) missing\n",
    "#HourlyWindDirection (4%) missing\n",
    "#HourlyWindSpeed (4%) missing\n",
    "#HourlyAltimeterSetting (6%) missing\n",
    "#HourlyWetBulbTemperature (5%) missing\n",
    "#HourlyDryBulbTemperature (4%) missing\n",
    "#HourlyDewPointTemperature (4%) missing\n",
    "\n",
    "df = df[['STATION','DATE','HourlyVisibility', 'HourlyStationPressure', 'HourlyRelativeHumidity', 'HourlyWindDirection', 'HourlyWindSpeed', 'HourlyAltimeterSetting', 'HourlyWetBulbTemperature', 'HourlyDryBulbTemperature', 'HourlyDewPointTemperature']]"
   ]
  },
  {
   "cell_type": "code",
   "execution_count": 3,
   "metadata": {},
   "outputs": [
    {
     "name": "stdout",
     "output_type": "stream",
     "text": [
      "STATION                          0\n",
      "DATE                             0\n",
      "HourlyVisibility             33108\n",
      "HourlyStationPressure        41385\n",
      "HourlyRelativeHumidity       35533\n",
      "HourlyWindDirection          37490\n",
      "HourlyWindSpeed              36232\n",
      "HourlyAltimeterSetting       55443\n",
      "HourlyWetBulbTemperature     48877\n",
      "HourlyDryBulbTemperature     33510\n",
      "HourlyDewPointTemperature    35490\n",
      "dtype: int64\n"
     ]
    }
   ],
   "source": [
    "# Check for missing values\n",
    "print(df.isnull().sum())"
   ]
  },
  {
   "cell_type": "code",
   "execution_count": 4,
   "metadata": {},
   "outputs": [],
   "source": [
    "# Drop rows with missing values\n",
    "df = df.dropna()"
   ]
  },
  {
   "cell_type": "code",
   "execution_count": 5,
   "metadata": {},
   "outputs": [
    {
     "name": "stdout",
     "output_type": "stream",
     "text": [
      "STATION\n",
      "72202612826    123933\n",
      "72203012844    103799\n",
      "72204992805    100597\n",
      "72202912888     96362\n",
      "72203912885     94264\n",
      "74783012849     92408\n",
      "72202012839     91711\n",
      "72203792809     91644\n",
      "72202212803     48551\n",
      "Name: count, dtype: int64\n"
     ]
    }
   ],
   "source": [
    "# Count how many rows for each station\n",
    "print(df['STATION'].value_counts())"
   ]
  },
  {
   "cell_type": "code",
   "execution_count": 6,
   "metadata": {},
   "outputs": [],
   "source": [
    "# Date and hour allignment\n",
    "#df['DATE'] = pd.to_datetime(df['DATE'])\n",
    "#df = df.sort_values(by=['STATION', 'DATE'])\n",
    "#df = df.set_index(['STATION', 'DATE'])"
   ]
  },
  {
   "cell_type": "code",
   "execution_count": 7,
   "metadata": {},
   "outputs": [
    {
     "data": {
      "text/plain": [
       "STATION                       int64\n",
       "DATE                         object\n",
       "HourlyVisibility             object\n",
       "HourlyStationPressure        object\n",
       "HourlyRelativeHumidity       object\n",
       "HourlyWindDirection          object\n",
       "HourlyWindSpeed              object\n",
       "HourlyAltimeterSetting       object\n",
       "HourlyWetBulbTemperature     object\n",
       "HourlyDryBulbTemperature     object\n",
       "HourlyDewPointTemperature    object\n",
       "dtype: object"
      ]
     },
     "execution_count": 7,
     "metadata": {},
     "output_type": "execute_result"
    }
   ],
   "source": [
    "df.dtypes"
   ]
  },
  {
   "cell_type": "code",
   "execution_count": 8,
   "metadata": {},
   "outputs": [],
   "source": [
    "columns_to_convert = [\n",
    "    'HourlyVisibility',\n",
    "    'HourlyStationPressure',\n",
    "    'HourlyRelativeHumidity',\n",
    "    'HourlyWindDirection',\n",
    "    'HourlyWindSpeed',\n",
    "    'HourlyAltimeterSetting',\n",
    "    'HourlyWetBulbTemperature',\n",
    "    'HourlyDryBulbTemperature',\n",
    "    'HourlyDewPointTemperature'\n",
    "]\n",
    "\n",
    "for col in columns_to_convert:\n",
    "    df[col] = pd.to_numeric(df[col], errors='coerce')"
   ]
  },
  {
   "cell_type": "code",
   "execution_count": 9,
   "metadata": {},
   "outputs": [],
   "source": [
    "df.to_csv('dataset.csv')"
   ]
  },
  {
   "cell_type": "code",
   "execution_count": 10,
   "metadata": {},
   "outputs": [],
   "source": [
    "target_col = 'HourlyDryBulbTemperature'\n",
    "feature_cols = [\n",
    "    'HourlyVisibility',\n",
    "    'HourlyStationPressure',\n",
    "    'HourlyRelativeHumidity',\n",
    "    'HourlyWindDirection',\n",
    "    'HourlyWindSpeed',\n",
    "    'HourlyAltimeterSetting',\n",
    "    'HourlyWetBulbTemperature',\n",
    "    'HourlyDewPointTemperature'\n",
    "]\n",
    "extra_cols = ['DATE']"
   ]
  },
  {
   "cell_type": "code",
   "execution_count": 11,
   "metadata": {},
   "outputs": [
    {
     "name": "stdout",
     "output_type": "stream",
     "text": [
      "Saved datasets_hourly/dataset_72202012839.csv\n",
      "Saved datasets_hourly/dataset_72202212803.csv\n",
      "Saved datasets_hourly/dataset_72202612826.csv\n",
      "Saved datasets_hourly/dataset_72202912888.csv\n",
      "Saved datasets_hourly/dataset_72203012844.csv\n",
      "Saved datasets_hourly/dataset_72203792809.csv\n",
      "Saved datasets_hourly/dataset_72203912885.csv\n",
      "Saved datasets_hourly/dataset_72204992805.csv\n",
      "Saved datasets_hourly/dataset_74783012849.csv\n"
     ]
    }
   ],
   "source": [
    "import os\n",
    "\n",
    "output_folder = \"datasets_hourly\"\n",
    "os.makedirs(output_folder, exist_ok=True)\n",
    "\n",
    "\n",
    "for station_id, group_df in df.groupby('STATION'):\n",
    "    group_df = group_df.sort_values(by='DATE')\n",
    "    # \n",
    "    cols_to_save = feature_cols + [target_col] + extra_cols\n",
    "    subset_df = group_df[cols_to_save].copy() \n",
    "    #\n",
    "    csv_filename = f\"dataset_{station_id}.csv\"\n",
    "    csv_path = os.path.join(output_folder, csv_filename)\n",
    "\n",
    "    # Drop rows with missing values\n",
    "    subset_df = subset_df.dropna()\n",
    "\n",
    "    #\n",
    "    subset_df.to_csv(csv_path, index=False)\n",
    "    print(f\"Saved {csv_path}\")"
   ]
  }
 ],
 "metadata": {
  "kernelspec": {
   "display_name": "SDC",
   "language": "python",
   "name": "python3"
  },
  "language_info": {
   "codemirror_mode": {
    "name": "ipython",
    "version": 3
   },
   "file_extension": ".py",
   "mimetype": "text/x-python",
   "name": "python",
   "nbconvert_exporter": "python",
   "pygments_lexer": "ipython3",
   "version": "3.11.11"
  }
 },
 "nbformat": 4,
 "nbformat_minor": 2
}
